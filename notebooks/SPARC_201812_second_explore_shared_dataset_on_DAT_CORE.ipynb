{
 "cells": [
  {
   "cell_type": "markdown",
   "metadata": {
    "slideshow": {
     "slide_type": "slide"
    }
   },
   "source": [
    "# Explore a shared dataset and download selected files from DAT CORE\n",
    "## SPARC data meeting\n",
    "### December 5, 2018\n",
    "### by: Max Novelli (man8@pitt.edu) RNEL, University of Pittsburgh"
   ]
  },
  {
   "cell_type": "markdown",
   "metadata": {
    "slideshow": {
     "slide_type": "slide"
    }
   },
   "source": [
    "First we set up our environment:\n",
    "- load all the python libraries that we need,   \n",
    "    including the DAT CORE (Blackfynn) one\n",
    "- load our library notebook\n",
    "- instantiate the DAT CORE and retrieve the shared dataset\n",
    "- create a local folder where we can save the files that we download"
   ]
  },
  {
   "cell_type": "markdown",
   "metadata": {
    "slideshow": {
     "slide_type": "subslide"
    }
   },
   "source": [
    "Import all the libraries that we need"
   ]
  },
  {
   "cell_type": "code",
   "execution_count": 1,
   "metadata": {
    "slideshow": {
     "slide_type": "fragment"
    }
   },
   "outputs": [],
   "source": [
    "import os\n",
    "from blackfynn import Blackfynn\n",
    "from blackfynn.models import Collection,DataPackage\n",
    "import pprint\n",
    "pp = pprint.PrettyPrinter()\n",
    "from IPython.display import Image"
   ]
  },
  {
   "cell_type": "markdown",
   "metadata": {
    "slideshow": {
     "slide_type": "subslide"
    }
   },
   "source": [
    "load our jupyter notebook library"
   ]
  },
  {
   "cell_type": "code",
   "execution_count": 2,
   "metadata": {
    "slideshow": {
     "slide_type": "fragment"
    }
   },
   "outputs": [],
   "source": [
    "%run SPARC_201812_library.ipynb"
   ]
  },
  {
   "cell_type": "code",
   "execution_count": 3,
   "metadata": {
    "slideshow": {
     "slide_type": "fragment"
    }
   },
   "outputs": [
    {
     "data": {
      "text/plain": [
       "('SPARC December 2018 Presentation',\n",
       " '/home/nitrosx/Documents/RNEL/Presentations/SPARC.20181205/notebooks/../SPARC_dataset_download')"
      ]
     },
     "execution_count": 3,
     "metadata": {},
     "output_type": "execute_result"
    }
   ],
   "source": [
    "DATCORE_DATASET, DOWNLOAD_PATH"
   ]
  },
  {
   "cell_type": "markdown",
   "metadata": {
    "slideshow": {
     "slide_type": "subslide"
    }
   },
   "source": [
    "Let's make sure that the download folder exists"
   ]
  },
  {
   "cell_type": "code",
   "execution_count": 4,
   "metadata": {
    "slideshow": {
     "slide_type": "fragment"
    }
   },
   "outputs": [
    {
     "data": {
      "text/plain": [
       "True"
      ]
     },
     "execution_count": 4,
     "metadata": {},
     "output_type": "execute_result"
    }
   ],
   "source": [
    "createDirIfNeeded(DOWNLOAD_PATH)"
   ]
  },
  {
   "cell_type": "markdown",
   "metadata": {
    "slideshow": {
     "slide_type": "slide"
    }
   },
   "source": [
    "Let's instantiate the DAT CORE environment and retrieve the shared dataset"
   ]
  },
  {
   "cell_type": "code",
   "execution_count": 5,
   "metadata": {
    "slideshow": {
     "slide_type": "fragment"
    }
   },
   "outputs": [],
   "source": [
    "dcInstance = Blackfynn()"
   ]
  },
  {
   "cell_type": "markdown",
   "metadata": {
    "slideshow": {
     "slide_type": "skip"
    }
   },
   "source": [
    "List all the dataset on DAT CORE"
   ]
  },
  {
   "cell_type": "code",
   "execution_count": 6,
   "metadata": {
    "slideshow": {
     "slide_type": "skip"
    }
   },
   "outputs": [
    {
     "data": {
      "text/plain": [
       "['Demo Dataset',\n",
       " 'Test Upload - Lee',\n",
       " 'Test1',\n",
       " 'SPARC December 2018',\n",
       " 'SPARC December 2018 Presentation']"
      ]
     },
     "execution_count": 6,
     "metadata": {},
     "output_type": "execute_result"
    }
   ],
   "source": [
    "[ds.name for ds in dcInstance.datasets()]"
   ]
  },
  {
   "cell_type": "markdown",
   "metadata": {
    "slideshow": {
     "slide_type": "skip"
    }
   },
   "source": [
    "We are looking for the following dataset"
   ]
  },
  {
   "cell_type": "code",
   "execution_count": 7,
   "metadata": {
    "slideshow": {
     "slide_type": "skip"
    }
   },
   "outputs": [
    {
     "data": {
      "text/plain": [
       "('SPARC December 2018 Presentation',\n",
       " '/home/nitrosx/Documents/RNEL/Presentations/SPARC.20181205/notebooks/../SPARC_dataset_download')"
      ]
     },
     "execution_count": 7,
     "metadata": {},
     "output_type": "execute_result"
    }
   ],
   "source": [
    "DATCORE_DATASET,DOWNLOAD_PATH"
   ]
  },
  {
   "cell_type": "code",
   "execution_count": 8,
   "metadata": {
    "slideshow": {
     "slide_type": "fragment"
    }
   },
   "outputs": [
    {
     "data": {
      "text/plain": [
       "<Dataset name='SPARC December 2018 Presentation' id='N:dataset:586237f2-46c6-47a1-ada4-ae06ca62e6e2'>"
      ]
     },
     "execution_count": 8,
     "metadata": {},
     "output_type": "execute_result"
    }
   ],
   "source": [
    "dcDataset = dcInstance.get_dataset(DATCORE_DATASET)\n",
    "dcDataset"
   ]
  },
  {
   "cell_type": "markdown",
   "metadata": {
    "slideshow": {
     "slide_type": "slide"
    }
   },
   "source": [
    "Now we know that we have access to the SPARC test dataset.  \n",
    "Let's explore it"
   ]
  },
  {
   "cell_type": "code",
   "execution_count": 9,
   "metadata": {
    "scrolled": true,
    "slideshow": {
     "slide_type": "fragment"
    }
   },
   "outputs": [
    {
     "name": "stdout",
     "output_type": "stream",
     "text": [
      "--------------------------------------------\n",
      "DAT CORE\n",
      "Dataset : SPARC December 2018 Presentation\n",
      "Collections(Folders) and DataPackages(Files)\n",
      "--------------------------------------------\n",
      "    DataPackage = dataset.json\n",
      "        File       = dataset (dataset.json)\n",
      "    Collection = subject_1\n",
      "        DataPackage = subject1.jpeg\n",
      "            File       = subject1 (subject1.jpg)\n",
      "        DataPackage = subject1.json\n",
      "            File       = subject1 (subject1.json)\n",
      "        DataPackage = subject1.bfts\n",
      "            File       = subject1 (subject1.bfts)\n",
      "        DataPackage = subject1.csv\n",
      "            File       = subject1 (subject1.csv)\n",
      "    Collection = subject_2\n",
      "        DataPackage = subject2.json\n",
      "            File       = subject2 (subject2.json)\n",
      "        DataPackage = subject2.jpeg\n",
      "            File       = subject2 (subject2.jpg)\n",
      "        DataPackage = subject2.bfts\n",
      "            File       = subject2 (subject2.bfts)\n",
      "        DataPackage = subject2.csv\n",
      "            File       = subject2 (subject2.csv)\n",
      "    Collection = subject_3\n",
      "        DataPackage = subject3.bfts\n",
      "            File       = subject3 (subject3.bfts)\n",
      "        DataPackage = subject3.jpeg\n",
      "            File       = subject3 (subject3.jpg)\n",
      "        DataPackage = subject3.json\n",
      "            File       = subject3 (subject3.json)\n",
      "        DataPackage = subject3.csv\n",
      "            File       = subject3 (subject3.csv)\n"
     ]
    }
   ],
   "source": [
    "prettyShowDatCoreDatasetFiles(dcDataset)"
   ]
  },
  {
   "cell_type": "markdown",
   "metadata": {
    "slideshow": {
     "slide_type": "slide"
    }
   },
   "source": [
    "We discovered that there are many pretty files in the shared data set"
   ]
  },
  {
   "cell_type": "markdown",
   "metadata": {
    "slideshow": {
     "slide_type": "fragment"
    }
   },
   "source": [
    "We brainstorm with our team and we want to download locally all the json files,  \n",
    "and the btfs file for subject one so we can verify the format.  \n",
    "\n",
    "The files that we are interested are:\n",
    "- subject_1/subject1.json\n",
    "- subject_1/subject1.bfts\n",
    "- subject_2/subject2.json\n",
    "- subject_3/subject3.json"
   ]
  },
  {
   "cell_type": "markdown",
   "metadata": {
    "slideshow": {
     "slide_type": "slide"
    }
   },
   "source": [
    "#### Let's start with file subject1/subject1.json"
   ]
  },
  {
   "cell_type": "markdown",
   "metadata": {
    "slideshow": {
     "slide_type": "fragment"
    }
   },
   "source": [
    "First we need to retrieve the collection where the files is located:"
   ]
  },
  {
   "cell_type": "code",
   "execution_count": 10,
   "metadata": {
    "slideshow": {
     "slide_type": "fragment"
    }
   },
   "outputs": [
    {
     "data": {
      "text/plain": [
       "<Collection name='subject_1' id='N:collection:5667a14f-8e89-4436-8d51-c5ce955d77c0'>"
      ]
     },
     "execution_count": 10,
     "metadata": {},
     "output_type": "execute_result"
    }
   ],
   "source": [
    "dcSubject1Collection = dcDataset.get_items_by_name('subject_1')[0]\n",
    "dcSubject1Collection"
   ]
  },
  {
   "cell_type": "markdown",
   "metadata": {
    "slideshow": {
     "slide_type": "slide"
    }
   },
   "source": [
    "Than check all the items in the **collection/folder**,  \n",
    "when we find the data package that contains the file,  \n",
    "we save the handle to the file object"
   ]
  },
  {
   "cell_type": "code",
   "execution_count": 11,
   "metadata": {
    "slideshow": {
     "slide_type": "fragment"
    }
   },
   "outputs": [
    {
     "data": {
      "text/plain": [
       "<File name='subject1' type='Json' key='man8@pitt.edu/data/3aa80ce3-a5f9-4856-8f8d-1357f167521f/subject1.json' bucket='prod-storage-blackfynn' size='698' id='41409'>"
      ]
     },
     "execution_count": 11,
     "metadata": {},
     "output_type": "execute_result"
    }
   ],
   "source": [
    "selectedFile = None\n",
    "# loops through the items in this collection\n",
    "for item in dcSubject1Collection.items:\n",
    "    # for each item, we loop through the files\n",
    "    for file in item.files:\n",
    "        if file.name == 'subject1' and file.type.lower() == 'json':\n",
    "            selectedFile= file\n",
    "selectedFile"
   ]
  },
  {
   "cell_type": "markdown",
   "metadata": {
    "slideshow": {
     "slide_type": "slide"
    }
   },
   "source": [
    "We need to define the local file name, which should be subject1.json"
   ]
  },
  {
   "cell_type": "code",
   "execution_count": 12,
   "metadata": {
    "slideshow": {
     "slide_type": "fragment"
    }
   },
   "outputs": [
    {
     "data": {
      "text/plain": [
       "'/home/nitrosx/Documents/RNEL/Presentations/SPARC.20181205/notebooks/../SPARC_dataset_download/subject1.json'"
      ]
     },
     "execution_count": 12,
     "metadata": {},
     "output_type": "execute_result"
    }
   ],
   "source": [
    "filePath = os.path.join(DOWNLOAD_PATH,'subject1.json')\n",
    "filePath"
   ]
  },
  {
   "cell_type": "markdown",
   "metadata": {
    "slideshow": {
     "slide_type": "fragment"
    }
   },
   "source": [
    "... and we download it"
   ]
  },
  {
   "cell_type": "code",
   "execution_count": 13,
   "metadata": {
    "slideshow": {
     "slide_type": "fragment"
    }
   },
   "outputs": [
    {
     "data": {
      "text/plain": [
       "'/home/nitrosx/Documents/RNEL/Presentations/SPARC.20181205/notebooks/../SPARC_dataset_download/subject1.json'"
      ]
     },
     "execution_count": 13,
     "metadata": {},
     "output_type": "execute_result"
    }
   ],
   "source": [
    "selectedFile.download(filePath)"
   ]
  },
  {
   "cell_type": "markdown",
   "metadata": {
    "slideshow": {
     "slide_type": "slide"
    }
   },
   "source": [
    "...and we repeat the same procedure for the other 3 files:\n",
    "- subject_1/subject1.bfts\n",
    "- subject_2/subject2.json\n",
    "- subject_3/subject3.json"
   ]
  },
  {
   "cell_type": "markdown",
   "metadata": {
    "slideshow": {
     "slide_type": "subslide"
    }
   },
   "source": [
    "Let's define a function that performs that for us..."
   ]
  },
  {
   "cell_type": "code",
   "execution_count": 14,
   "metadata": {
    "slideshow": {
     "slide_type": "fragment"
    }
   },
   "outputs": [],
   "source": [
    "def downloadFileFromDatCore(dcDataset,datcoreFilePath,localFileName):\n",
    "    # extract the collections to traverse and the file name\n",
    "    fileName = datcoreFilePath.split('/')[-1]\n",
    "    collections = datcoreFilePath.split('/')[0:-1]\n",
    "    # find the collection object that contains our file\n",
    "    hC = dcDataset\n",
    "    for index in range(len(collections)):\n",
    "        temp = hC.get_items_by_name(collections[index])\n",
    "        if not temp:\n",
    "            return False\n",
    "        hC = temp[0]\n",
    "    # now finds the data package and the file\n",
    "    selectedFile = None\n",
    "    for item in hC.items:\n",
    "        for file in item.files:\n",
    "            if file.s3_key.split('/')[-1] == fileName:\n",
    "                selectedFile= file\n",
    "    if not selectedFile:\n",
    "        return False\n",
    "    selectedFile.download(localFileName)\n",
    "    return True"
   ]
  },
  {
   "cell_type": "code",
   "execution_count": 15,
   "metadata": {
    "slideshow": {
     "slide_type": "subslide"
    }
   },
   "outputs": [
    {
     "data": {
      "text/plain": [
       "True"
      ]
     },
     "execution_count": 15,
     "metadata": {},
     "output_type": "execute_result"
    }
   ],
   "source": [
    "downloadFileFromDatCore(\n",
    "    dcDataset,\n",
    "    'subject_1/subject1.bfts',\n",
    "    os.path.join(DOWNLOAD_PATH,'subject1.bfts'))"
   ]
  },
  {
   "cell_type": "code",
   "execution_count": 16,
   "metadata": {
    "slideshow": {
     "slide_type": "fragment"
    }
   },
   "outputs": [
    {
     "data": {
      "text/plain": [
       "True"
      ]
     },
     "execution_count": 16,
     "metadata": {},
     "output_type": "execute_result"
    }
   ],
   "source": [
    "downloadFileFromDatCore(\n",
    "    dcDataset,\n",
    "    'subject_2/subject2.json',\n",
    "    os.path.join(DOWNLOAD_PATH,'subject2.json'))"
   ]
  },
  {
   "cell_type": "code",
   "execution_count": 17,
   "metadata": {
    "slideshow": {
     "slide_type": "fragment"
    }
   },
   "outputs": [
    {
     "data": {
      "text/plain": [
       "True"
      ]
     },
     "execution_count": 17,
     "metadata": {},
     "output_type": "execute_result"
    }
   ],
   "source": [
    "downloadFileFromDatCore(\n",
    "    dcDataset,\n",
    "    'subject_3/subject3.json',\n",
    "    os.path.join(DOWNLOAD_PATH,'subject3.json'))"
   ]
  },
  {
   "cell_type": "markdown",
   "metadata": {
    "slideshow": {
     "slide_type": "slide"
    }
   },
   "source": [
    "Let's verify that we have the four selected files in the local download folder:"
   ]
  },
  {
   "cell_type": "code",
   "execution_count": 18,
   "metadata": {
    "slideshow": {
     "slide_type": "fragment"
    }
   },
   "outputs": [
    {
     "name": "stdout",
     "output_type": "stream",
     "text": [
      "SPARC_dataset_download/\n",
      "    subject3.json\n",
      "    subject1.bfts\n",
      "    subject1.json\n",
      "    subject2.json\n"
     ]
    }
   ],
   "source": [
    "prettyShowFolderTree(DOWNLOAD_PATH)"
   ]
  },
  {
   "cell_type": "code",
   "execution_count": 19,
   "metadata": {},
   "outputs": [
    {
     "data": {
      "image/png": "[encoded data removed]",
      "text/plain": [
       "<IPython.core.display.Image object>"
      ]
     },
     "execution_count": 19,
     "metadata": {},
     "output_type": "execute_result"
    }
   ],
   "source": [
    "Image(filename='../images/files_downloaded.png')"
   ]
  },
  {
   "cell_type": "markdown",
   "metadata": {
    "slideshow": {
     "slide_type": "slide"
    }
   },
   "source": [
    "## Congratulation!!! \n",
    "### you just downloaded your files from a shared dataset on DAT CORE!!!"
   ]
  },
  {
   "cell_type": "markdown",
   "metadata": {
    "slideshow": {
     "slide_type": "fragment"
    }
   },
   "source": [
    "## Thank you.\n",
    "If you have any question, please come and find me during breaks.  \n",
    "This notebook will be available to you through the SPARC material.  \n",
    "Max Novelli (man8@pitt)"
   ]
  },
  {
   "cell_type": "code",
   "execution_count": null,
   "metadata": {},
   "outputs": [],
   "source": []
  }
 ],
 "metadata": {
  "celltoolbar": "Slideshow",
  "kernelspec": {
   "display_name": "Python 3",
   "language": "python",
   "name": "python3"
  },
  "language_info": {
   "codemirror_mode": {
    "name": "ipython",
    "version": 3
   },
   "file_extension": ".py",
   "mimetype": "text/x-python",
   "name": "python",
   "nbconvert_exporter": "python",
   "pygments_lexer": "ipython3",
   "version": "3.5.2"
  }
 },
 "nbformat": 4,
 "nbformat_minor": 2
}
