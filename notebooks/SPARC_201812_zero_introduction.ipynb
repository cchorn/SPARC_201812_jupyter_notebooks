{
 "cells": [
  {
   "cell_type": "markdown",
   "metadata": {
    "slideshow": {
     "slide_type": "slide"
    }
   },
   "source": [
    "# About Jupyter notebooks, Python, and DAT CORE (Blackfynn) api\n",
    "## SPARC data meeting\n",
    "### December 5, 2018\n",
    "### by: Max Novelli (man8@pitt.edu), RNEL, University of Pittsburgh"
   ]
  },
  {
   "cell_type": "markdown",
   "metadata": {
    "slideshow": {
     "slide_type": "slide"
    }
   },
   "source": [
    "## Agenda\n",
    "- Disclamer\n",
    "- Goals\n",
    "- Tools\n",
    "- Process"
   ]
  },
  {
   "cell_type": "markdown",
   "metadata": {
    "slideshow": {
     "slide_type": "slide"
    }
   },
   "source": [
    "## Disclaimer\n",
    "The following presentations and slides do contain lines of code.  \n",
    "Please do not fall a sleep or wonder off in despair."
   ]
  },
  {
   "cell_type": "markdown",
   "metadata": {
    "slideshow": {
     "slide_type": "slide"
    }
   },
   "source": [
    "## Goals"
   ]
  },
  {
   "cell_type": "markdown",
   "metadata": {
    "slideshow": {
     "slide_type": "fragment"
    }
   },
   "source": [
    "### Question: \n",
    "why do we want to _invest_ our time to learn the DAT CORE (Blackfynn) python API,   \n",
    "when the web GUI has this beautiful tool called \"Drag-and-Drop\" where we can easily upload our files?"
   ]
  },
  {
   "cell_type": "markdown",
   "metadata": {
    "slideshow": {
     "slide_type": "slide"
    }
   },
   "source": [
    "### Answer:\n",
    "There are many valid reasons. I can list three of them:"
   ]
  },
  {
   "cell_type": "markdown",
   "metadata": {
    "slideshow": {
     "slide_type": "fragment"
    }
   },
   "source": [
    "- we need or want to have better control of the upload/download process. You want to programmatically control which files are uploaded or downlaoded, the destination folder and when the upload takes place."
   ]
  },
  {
   "cell_type": "markdown",
   "metadata": {
    "slideshow": {
     "slide_type": "fragment"
    }
   },
   "source": [
    "- your lab has invested to create or install a data managing tool to manage all your data. You want to take advantage of such investment and be able to programmatically share the curation done locally to DAT CORE."
   ]
  },
  {
   "cell_type": "markdown",
   "metadata": {
    "slideshow": {
     "slide_type": "fragment"
    }
   },
   "source": [
    "- you need to programmatically apply evolving onthologies to your data"
   ]
  },
  {
   "cell_type": "markdown",
   "metadata": {
    "slideshow": {
     "slide_type": "slide"
    }
   },
   "source": [
    "## Tools"
   ]
  },
  {
   "cell_type": "markdown",
   "metadata": {
    "slideshow": {
     "slide_type": "fragment"
    }
   },
   "source": [
    "- Python (https://www.python.org/)\n",
    "<!-- Python is a programming language that lets you work quickly and integrate systems more effectively.  -->"
   ]
  },
  {
   "cell_type": "markdown",
   "metadata": {
    "slideshow": {
     "slide_type": "fragment"
    }
   },
   "source": [
    "- Jupyter Notebooks (https://jupyter.org/)\n",
    "    - nbextensions (https://github.com/ipython-contrib/jupyter_contrib_nbextensions)\n",
    "    - RISE (https://github.com/damianavila/RISE)\n",
    "<!-- The Jupyter Notebook is an open-source web application that allows you to create and share documents that contain live code, equations, visualizations and narrative text. -->"
   ]
  },
  {
   "cell_type": "markdown",
   "metadata": {
    "slideshow": {
     "slide_type": "fragment"
    }
   },
   "source": [
    "- JSON (http://json.org/) \n",
    "<!-- JavaScript Object Notation is a lightweight data-interchange format. JSON is a text format that is completely language independent but uses conventions that are familiar to programmers -->"
   ]
  },
  {
   "cell_type": "markdown",
   "metadata": {
    "slideshow": {
     "slide_type": "fragment"
    }
   },
   "source": [
    "- Blackfynn Python API (https://developer.blackfynn.io/python/latest/index.html)"
   ]
  },
  {
   "cell_type": "markdown",
   "metadata": {
    "slideshow": {
     "slide_type": "slide"
    }
   },
   "source": [
    "## Process"
   ]
  },
  {
   "cell_type": "markdown",
   "metadata": {
    "slideshow": {
     "slide_type": "fragment"
    }
   },
   "source": [
    "- [Upload a local data set to DAT CORE](./SPARC_201812_first_upload_local_dataset_to_DAT_CORE.ipynb)"
   ]
  },
  {
   "cell_type": "markdown",
   "metadata": {
    "slideshow": {
     "slide_type": "fragment"
    }
   },
   "source": [
    "- [Explore a shared dataset and download selected files from DAT CORE](./SPARC_201812_second_explore_shared_dataset_on_DAT_CORE.ipynb)"
   ]
  },
  {
   "cell_type": "markdown",
   "metadata": {
    "slideshow": {
     "slide_type": "fragment"
    }
   },
   "source": [
    "- [Leverage Model/Relationship functionalities in DAT CORE to better describe our data](./SPARC_201812_third_leveraging_models_on_DAT_CORE.ipynb)"
   ]
  },
  {
   "cell_type": "markdown",
   "metadata": {
    "slideshow": {
     "slide_type": "slide"
    }
   },
   "source": [
    "## Notebooks included\n",
    "- [library](./SPARC_201812_library.ipynb)\n",
    "- [clear test dataset on DAT CORE](./SPARC_201812_clear_test_dataset_on_DAT_CORE.ipynb)\n",
    "- [create local test dataset](./SPARC_201812_create_local_test_dataset.ipynb)\n",
    "- [upload loacl test dataset to DAT CORE](./SPARC_201812_first_upload_local_test_dataset_to_DAT_CORE.ipynb)\n",
    "- [leveraging models and relationships on DAT CORE](./SPARC_201812_third_leveraging_models_on_DAT_CORE.ipynb)"
   ]
  },
  {
   "cell_type": "markdown",
   "metadata": {
    "slideshow": {
     "slide_type": "slide"
    }
   },
   "source": [
    "## Thank you.\n",
    "\n",
    "If you have any question, please come and find me during breaks. This notebook will be available to you through the SPARC material.\n",
    "### Max Novelli (man8@pitt)\n"
   ]
  }
 ],
 "metadata": {
  "celltoolbar": "Slideshow",
  "kernelspec": {
   "display_name": "Python 3",
   "language": "python",
   "name": "python3"
  },
  "language_info": {
   "codemirror_mode": {
    "name": "ipython",
    "version": 3
   },
   "file_extension": ".py",
   "mimetype": "text/x-python",
   "name": "python",
   "nbconvert_exporter": "python",
   "pygments_lexer": "ipython3",
   "version": "3.5.2"
  }
 },
 "nbformat": 4,
 "nbformat_minor": 2
}
