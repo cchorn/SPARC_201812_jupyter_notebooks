{
 "cells": [
  {
   "cell_type": "markdown",
   "metadata": {},
   "source": [
    "Import library used in functions, just in case"
   ]
  },
  {
   "cell_type": "code",
   "execution_count": null,
   "metadata": {},
   "outputs": [],
   "source": [
    "import os"
   ]
  },
  {
   "cell_type": "markdown",
   "metadata": {},
   "source": [
    "Define constants used in this exercise"
   ]
  },
  {
   "cell_type": "code",
   "execution_count": null,
   "metadata": {},
   "outputs": [],
   "source": [
    "# change this to match the name of the dataset that you are using to run this demo\n",
    "DATCORE_DATASET = 'SPARC December 2018 Presentation'"
   ]
  },
  {
   "cell_type": "code",
   "execution_count": null,
   "metadata": {},
   "outputs": [],
   "source": [
    "# path of the folder where you saved this notebook together with all the others in SPARC 201812 package\n",
    "BASE_PATH = os.path.join(os.getcwd(),'..')\n",
    "# name of the folder where the test dataset is located\n",
    "# this variable is used by \"SPARC_201812_create_test_dataset\" notebook to create the test dataset\n",
    "DATASET_FOLDER = 'SPARC_local_test_dataset'\n",
    "# full path to the test dataset folder\n",
    "# if you do not change it, the test dataset will be created in the same folder where you saved this notebook\n",
    "DATASET_PATH = os.path.join(BASE_PATH,DATASET_FOLDER)\n",
    "# name of the folder where will we save the files downloaded from DAT CORE\n",
    "DOWNLOAD_FOLDER = 'SPARC_dataset_download'\n",
    "# full path to the download folder.\n",
    "# if you do not change it, the download folder will be created in the same folder where this notebook is saved\n",
    "DOWNLOAD_PATH = os.path.join(BASE_PATH,DOWNLOAD_FOLDER)"
   ]
  },
  {
   "cell_type": "code",
   "execution_count": null,
   "metadata": {},
   "outputs": [],
   "source": [
    "# name of the models that we will create on DAT CORE\n",
    "#\n",
    "# subject model name\n",
    "DC_MODEL_SUBJECT = 'Subject'\n",
    "# emg channels model name\n",
    "DC_MODEL_EMG = 'Emg'"
   ]
  },
  {
   "cell_type": "code",
   "execution_count": 3,
   "metadata": {},
   "outputs": [],
   "source": [
    "# name and description of the relationships\n",
    "DC_SUBJECT_TO_EMG_NAME = 'has_emg_channel'\n",
    "DC_SUBJECT_TO_EMG_DESCRIPTION = 'The subject has emg channel data recording'\n",
    "DC_SUBJECT_TO_FILE_NAME = 'has_data_file'\n",
    "DC_SUBJECT_TO_FILE_DESCRIPTION = 'The subject has this data file associated'"
   ]
  },
  {
   "cell_type": "code",
   "execution_count": 4,
   "metadata": {},
   "outputs": [],
   "source": [
    "# images file names\n",
    "# These are images that are presented in all the notebooks through the presentations\n",
    "DC_IMAGE_FILES_1 = '../images/dataset_files_uploaded_1.png'\n",
    "DC_IMAGE_FILES_1 = '../images/dataset_files_uploaded_2.png'\n",
    "DC_IMAGE_FILES_3 = '../images/files_downloaded.png'\n",
    "DC_IMAGE_MODEL_1 = '../images/first_model_created.png'\n",
    "DC_IMAGE_MODEL_2 = '../images/first_model_fields.png'\n",
    "DC_IMAGE_RECORDS_1 = '../images/first_model_records.png'\n",
    "DC_IMAGE_RECORDS_2 = '../images/emg_model_records.png'\n",
    "DC_IMAGE_RELATIONSHIPS = '../images/records_relationships.png'\n",
    "DC_IMAGE_RELATIONSHIPS_1 = '../images/records_relationships_1.png'\n",
    "DC_IMAGE_RELATIONSHIPS_2 = '../images/records_relationships_2.png'\n",
    "DC_IMAGE_RELATIONSHIPS_3 = '../images/records_relationships_3.png'"
   ]
  },
  {
   "cell_type": "code",
   "execution_count": null,
   "metadata": {},
   "outputs": [],
   "source": [
    "# constants used in code and functions\n",
    "#\n",
    "# how many spaces each indentation uses in the prettyShow functions\n",
    "PRETTY_INDENTATION = 4"
   ]
  },
  {
   "cell_type": "markdown",
   "metadata": {},
   "source": [
    "Define useful functions"
   ]
  },
  {
   "cell_type": "code",
   "execution_count": null,
   "metadata": {},
   "outputs": [],
   "source": [
    "def createDirIfNeeded(path):\n",
    "    if not os.path.isdir(path):\n",
    "        os.makedirs(path)\n",
    "    return os.path.isdir(path)"
   ]
  },
  {
   "cell_type": "code",
   "execution_count": null,
   "metadata": {},
   "outputs": [],
   "source": [
    "def prettyShowFolderTree(path):\n",
    "    tree = []\n",
    "    indent = 0\n",
    "    for root, dirs, files in os.walk(path):\n",
    "        level = root.replace(path, '').count(os.sep)\n",
    "        indent = ' ' * PRETTY_INDENTATION * (level)\n",
    "        tree.append('{}{}/'.format(indent,os.path.basename(root)))    \n",
    "        for f in files:\n",
    "            subindent=' ' * PRETTY_INDENTATION * (level+1)\n",
    "            tree.append('{}{}'.format(subindent,f))\n",
    "    for item in tree:\n",
    "        print(item)"
   ]
  },
  {
   "cell_type": "code",
   "execution_count": null,
   "metadata": {},
   "outputs": [],
   "source": [
    "def prettyShowDatCoreDatasetFiles(hDC,level=0):\n",
    "    '''\n",
    "    This function provides a well formatted rapresentation of all the folders and files saved on the DAT CORE dataset\n",
    "    \n",
    "    Input\n",
    "    - hDC   = handle to DAT CORE dataset\n",
    "    - level = the level of the current folder\n",
    "    '''\n",
    "    if level == 0:\n",
    "        print('--------------------------------------------')\n",
    "        print('DAT CORE')\n",
    "        print('Dataset : {}'.format(hDC.name))\n",
    "        print('Collections(Folders) and DataPackages(Files)')\n",
    "        print('--------------------------------------------')\n",
    "    for item in hDC.items:\n",
    "        # check which type we have\n",
    "        objectType = 'Unknown'\n",
    "        objectName = ''\n",
    "        if isinstance(item,Collection):\n",
    "            objectType = 'Collection'\n",
    "            objectName = item.name\n",
    "        elif isinstance(item,DataPackage):\n",
    "            files = item.files\n",
    "            objectType = 'DataPackage' + ('s' if len(files)>1 else '')\n",
    "            objectName = ', '.join(['.'.join([item2.name,item2.type.lower()]) for item2 in files])\n",
    "        # prints this entry\n",
    "        print('{:s}{:10s} = {:s}'.format(' '*PRETTY_INDENTATION*(1+level),objectType,objectName))\n",
    "        # if it is a folder, descends into it\n",
    "        if isinstance(item,Collection):\n",
    "            prettyShowDatCoreDatasetFiles(item,level+1)\n",
    "        elif isinstance(item,DataPackage):\n",
    "            for file in item.files:\n",
    "                print('{:s}{:10s} = {:s} ({:s})'.format(' '*PRETTY_INDENTATION*(2+level),'File',file.name,file.s3_key.split('/')[-1]))"
   ]
  },
  {
   "cell_type": "code",
   "execution_count": null,
   "metadata": {},
   "outputs": [],
   "source": [
    "def prettyShowDatCoreDatasetModels(hDC):\n",
    "    print('--------------------------------------------')\n",
    "    print('DAT CORE')\n",
    "    print('Dataset : {}'.format(hDC.name))\n",
    "    print('Models, and Records')\n",
    "    print('--------------------------------------------')    \n",
    "    for mName, mObject in dcDataset.models().items():\n",
    "        print('{:s} Model        : {:s}'.format(' '*PRETTY_INDENTATION,mName))\n",
    "        print('{:s} Records #    : {:d}'.format(' '*PRETTY_INDENTATION*2,mObject.count))\n",
    "        print('{:s} Properties   : {:d}'.format(' '*PRETTY_INDENTATION*2,len(mObject.as_dict()['schema'])))\n",
    "        for prop in mObject.as_dict()['schema']:\n",
    "            print('{:s} {:s}'.format(' '*PRETTY_INDENTATION*4,prop['displayName']))\n",
    "    print('--------------------------------------------')    \n",
    "    print('Relationships')\n",
    "    print('--------------------------------------------')    \n",
    "    for rName,rObject in dcDataset.relationships().items():\n",
    "        print('{:s} Relationship : {:s}'.format(' '*PRETTY_INDENTATION,rName))\n",
    "        "
   ]
  },
  {
   "cell_type": "code",
   "execution_count": null,
   "metadata": {},
   "outputs": [],
   "source": [
    "def schemaReport(schema):\n",
    "    for key,item in schema.items():\n",
    "        print(\"{:>30} => Presence : {:d} , Types : {:d} , Types list : {}\".format(key,item['presence'],len(item['types']),item['types']))"
   ]
  },
  {
   "cell_type": "code",
   "execution_count": 1,
   "metadata": {},
   "outputs": [],
   "source": [
    "def schemaReportSimplified(schema):\n",
    "    for key,item in schema.items():\n",
    "        print(\"{:>30} => Presence : {:d} , Type : {}\".format(key,item['presence'],item['types'][0]))"
   ]
  },
  {
   "cell_type": "code",
   "execution_count": null,
   "metadata": {},
   "outputs": [],
   "source": []
  }
 ],
 "metadata": {
  "kernelspec": {
   "display_name": "Python 3",
   "language": "python",
   "name": "python3"
  },
  "language_info": {
   "codemirror_mode": {
    "name": "ipython",
    "version": 3
   },
   "file_extension": ".py",
   "mimetype": "text/x-python",
   "name": "python",
   "nbconvert_exporter": "python",
   "pygments_lexer": "ipython3",
   "version": "3.5.2"
  }
 },
 "nbformat": 4,
 "nbformat_minor": 2
}
