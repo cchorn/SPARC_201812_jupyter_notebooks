{
 "cells": [
  {
   "cell_type": "markdown",
   "metadata": {},
   "source": [
    "# Create local test dataset\n",
    "## SPARC data meeting\n",
    "### December 5, 2018\n",
    "### by: Max Novelli (man8@pitt.edu), RNEL, University of Pittsburgh"
   ]
  },
  {
   "cell_type": "markdown",
   "metadata": {},
   "source": [
    "In this notebook, We will create a local copy of the _SPARC presentation test dataset_ to be used in the **SPARC december 2018** data meeting Jupyter presentation.  \n",
    "The new dataset will overwrite the local copy that you previously created."
   ]
  },
  {
   "cell_type": "markdown",
   "metadata": {},
   "source": [
    "First we import all the libraries that we need"
   ]
  },
  {
   "cell_type": "code",
   "execution_count": null,
   "metadata": {},
   "outputs": [],
   "source": [
    "import numpy as np\n",
    "import pandas as pd\n",
    "import os\n",
    "import json\n",
    "import random\n",
    "import urllib.request"
   ]
  },
  {
   "cell_type": "markdown",
   "metadata": {},
   "source": [
    "Import library notebook with constants and useful functions"
   ]
  },
  {
   "cell_type": "code",
   "execution_count": null,
   "metadata": {},
   "outputs": [],
   "source": [
    "%run SPARC_201812_library.ipynb"
   ]
  },
  {
   "cell_type": "code",
   "execution_count": null,
   "metadata": {},
   "outputs": [],
   "source": [
    "DATCORE_DATASET, BASE_PATH"
   ]
  },
  {
   "cell_type": "markdown",
   "metadata": {},
   "source": [
    "Define local functions"
   ]
  },
  {
   "cell_type": "code",
   "execution_count": null,
   "metadata": {},
   "outputs": [],
   "source": [
    "def generateSignals(duration,frequency,channels):\n",
    "    # generate time vector\n",
    "    t = np.arange(0,duration,1/frequency)*1000000\n",
    "    # create pandas data frame\n",
    "    dfSignals = pd.DataFrame(t,columns=['time uS'])\n",
    "    for channel in range(channels):\n",
    "        # pick a random frequency\n",
    "        signal_frequency = random.randint(10,500)\n",
    "        # builds a sinusoid\n",
    "        sinusoid = np.sin(2*np.pi*t*(100/subject1Metadata['sampling_frequency']))\n",
    "        sinusoid = sinusoid / max(sinusoid)\n",
    "        # generate random noise\n",
    "        noise = np.random.normal(0,1,len(t))\n",
    "        noise = noise/ max(noise)\n",
    "        # build the signal\n",
    "        signal = sinusoid + noise\n",
    "        signal = signal / max(signal)\n",
    "        # add signal to dataframe\n",
    "        dfSignals['channel ' + str(channel + 1) + 'uV'] = signal\n",
    "    # set index\n",
    "    dfSignals.set_index('time uS',inplace=True)\n",
    "    # returns dataframe\n",
    "    return dfSignals"
   ]
  },
  {
   "cell_type": "code",
   "execution_count": null,
   "metadata": {},
   "outputs": [],
   "source": [
    "def generateStimTimes(duration,number=-1):\n",
    "    # check if we need to pick the number stimulation times\n",
    "    if number < 0:\n",
    "        number = random.randint(1,1000)\n",
    "    # generate random stim times within the duration specified\n",
    "    return pd.DataFrame([random.uniform(0,duration) for _ in range(number)])  "
   ]
  },
  {
   "cell_type": "markdown",
   "metadata": {},
   "source": [
    "We are going to create 3 subjects, each one of them has its own folder and the following files:\n",
    "- a json file that describes the metadata and the remaining files, \n",
    "- a time series file in bfts format containing emg signals, \n",
    "- a table file in csv format containing stimulation times\n",
    "- one image of the supposed subject\n",
    "\n",
    "A file called dataset.json is created in the main folder that describe the full dataset"
   ]
  },
  {
   "cell_type": "markdown",
   "metadata": {},
   "source": [
    "Let's verify the path where the test dataset is going to be created.\n",
    "We also make sure that is created if it does not exists"
   ]
  },
  {
   "cell_type": "code",
   "execution_count": null,
   "metadata": {},
   "outputs": [],
   "source": [
    "DATASET_PATH"
   ]
  },
  {
   "cell_type": "code",
   "execution_count": null,
   "metadata": {},
   "outputs": [],
   "source": [
    "createDirIfNeeded(DATASET_PATH)"
   ]
  },
  {
   "cell_type": "markdown",
   "metadata": {},
   "source": [
    "### Create dataset definition file\n",
    "This is the dataset.json file sitting in the main folder"
   ]
  },
  {
   "cell_type": "code",
   "execution_count": null,
   "metadata": {},
   "outputs": [],
   "source": [
    "datasetMetadata = {\n",
    " \"machine_name\" : \"SPARC_presentation_test\",\n",
    " \"human_name  \" : \"SPARC presentation test\",\n",
    " \"author\"       : \"Max Novelli\",\n",
    " \"date\"         : \"2018/11/27\",\n",
    " \"notes\"        : \"\"\"\n",
    "this dataset is a mock dataset, it does not contains any real data. \n",
    "All the files have been created with the sole purpose to present how to use Jupyter notebook, \n",
    "python and SPARC DAT CORE (Blackfynn) API to upload files\n",
    "\"\"\"\n",
    "}"
   ]
  },
  {
   "cell_type": "code",
   "execution_count": null,
   "metadata": {},
   "outputs": [],
   "source": [
    "datasetMetadataPath = os.path.join(DATASET_PATH,'dataset.json')\n",
    "datasetMetadataPath"
   ]
  },
  {
   "cell_type": "code",
   "execution_count": null,
   "metadata": {},
   "outputs": [],
   "source": [
    "with open(datasetMetadataPath,'w') as fh:\n",
    "    json.dump(datasetMetadata,fh)"
   ]
  },
  {
   "cell_type": "markdown",
   "metadata": {},
   "source": [
    "### Subject 1\n",
    "We create all the files for subject 1, including the subfolder containing them"
   ]
  },
  {
   "cell_type": "code",
   "execution_count": null,
   "metadata": {},
   "outputs": [],
   "source": [
    "subject1Path = os.path.join(DATASET_PATH,'subject_1')\n",
    "subject1Path"
   ]
  },
  {
   "cell_type": "code",
   "execution_count": null,
   "metadata": {},
   "outputs": [],
   "source": [
    "createDirIfNeeded(subject1Path)"
   ]
  },
  {
   "cell_type": "markdown",
   "metadata": {},
   "source": [
    "creates metadata json file"
   ]
  },
  {
   "cell_type": "code",
   "execution_count": null,
   "metadata": {},
   "outputs": [],
   "source": [
    "subject1Metadata = {\n",
    "    'subject_name' : 'Max',\n",
    "    'subject_id' : 1,\n",
    "    'subject_species' : 'primate',\n",
    "    'date_tested' : '2018/06/06',\n",
    "    'raw_files' : {\n",
    "        'picture' : 'subject1.jpg',\n",
    "        'emgs'    : 'subject1.bfts',\n",
    "        'stim'    : 'subject1.csv'\n",
    "    },\n",
    "    'stim_location' : 'pinky finger, right hand',\n",
    "    'emgs_channels' : [\n",
    "        {\n",
    "            'channel' : 1,\n",
    "            'location' : 'FCL',\n",
    "            'muscle_name' : 'Flexor Carpi Radialis'\n",
    "        },\n",
    "        {\n",
    "            'channel' : 2,\n",
    "            'location' : 'FCU',\n",
    "            'muscle_name' : 'Flexor Carpi Urnalis'\n",
    "        },\n",
    "        {\n",
    "            'channel' : 3,\n",
    "            'location' : 'ED2',\n",
    "            'muscle_name' : 'Extesor Digitorum Index'\n",
    "        },\n",
    "        {\n",
    "            'channel' : 4,\n",
    "            'location' : 'FDS2',\n",
    "            'muscle_name' : 'Flexor Digitorum Superficialis Index'\n",
    "        }\n",
    "    ],\n",
    "    'sampling_frequency' : 10000,\n",
    "    'sampling_frequency_units' : 'Hz',\n",
    "    'emg_units' : 'uV',\n",
    "    'time_units' : 's',\n",
    "    'recording_duration' : 10\n",
    "}"
   ]
  },
  {
   "cell_type": "code",
   "execution_count": null,
   "metadata": {},
   "outputs": [],
   "source": [
    "subject1MetadataPath = os.path.join(subject1Path,'subject1.json')\n",
    "subject1MetadataPath"
   ]
  },
  {
   "cell_type": "code",
   "execution_count": null,
   "metadata": {},
   "outputs": [],
   "source": [
    "with open(subject1MetadataPath,'w') as fh:\n",
    "    json.dump(subject1Metadata,fh)"
   ]
  },
  {
   "cell_type": "markdown",
   "metadata": {},
   "source": [
    "Generate emg signals"
   ]
  },
  {
   "cell_type": "code",
   "execution_count": null,
   "metadata": {},
   "outputs": [],
   "source": [
    "emgs1 = generateSignals(\n",
    "    subject1Metadata['recording_duration'],\n",
    "    subject1Metadata['sampling_frequency'],\n",
    "    len(subject1Metadata['emgs_channels']))"
   ]
  },
  {
   "cell_type": "code",
   "execution_count": null,
   "metadata": {},
   "outputs": [],
   "source": [
    "emgs1.to_csv(\n",
    "    os.path.join(\n",
    "        subject1Path,\n",
    "        subject1Metadata['raw_files']['emgs']))"
   ]
  },
  {
   "cell_type": "markdown",
   "metadata": {},
   "source": [
    "Generate stimulation times"
   ]
  },
  {
   "cell_type": "code",
   "execution_count": null,
   "metadata": {},
   "outputs": [],
   "source": [
    "stim1 = generateStimTimes(subject1Metadata['recording_duration'])"
   ]
  },
  {
   "cell_type": "code",
   "execution_count": null,
   "metadata": {},
   "outputs": [],
   "source": [
    "stim1.columns = ['Stimulation times']"
   ]
  },
  {
   "cell_type": "code",
   "execution_count": null,
   "metadata": {},
   "outputs": [],
   "source": [
    "stim1.to_csv(\n",
    "    os.path.join(\n",
    "        subject1Path,\n",
    "        subject1Metadata['raw_files']['stim']))"
   ]
  },
  {
   "cell_type": "markdown",
   "metadata": {},
   "source": [
    "Download random image from internet"
   ]
  },
  {
   "cell_type": "code",
   "execution_count": null,
   "metadata": {},
   "outputs": [],
   "source": [
    "imageUrl1 = 'https://today.duke.edu/sites/default/files/styles/story_hero/public/bonoboface.jpg'"
   ]
  },
  {
   "cell_type": "code",
   "execution_count": null,
   "metadata": {},
   "outputs": [],
   "source": [
    "urllib.request.urlretrieve(\n",
    "    imageUrl1,\n",
    "    os.path.join(\n",
    "        subject1Path,\n",
    "        subject1Metadata['raw_files']['picture']))"
   ]
  },
  {
   "cell_type": "markdown",
   "metadata": {},
   "source": [
    "### Subject 2\n",
    "We create all the files for subject 2, including the subfolder containing them"
   ]
  },
  {
   "cell_type": "code",
   "execution_count": null,
   "metadata": {},
   "outputs": [],
   "source": [
    "subject2Path = os.path.join(DATASET_PATH,'subject_2')\n",
    "subject2Path"
   ]
  },
  {
   "cell_type": "code",
   "execution_count": null,
   "metadata": {},
   "outputs": [],
   "source": [
    "createDirIfNeeded(subject2Path)"
   ]
  },
  {
   "cell_type": "code",
   "execution_count": null,
   "metadata": {},
   "outputs": [],
   "source": [
    "# creates metadata json file\n",
    "subject2Metadata = {\n",
    "    'subject_name' : 'Pier',\n",
    "    'subject_id' : 2,\n",
    "    'subject_species' : 'ferret',\n",
    "    'date_tested' : '2018/07/07',\n",
    "    'raw_files' : {\n",
    "        'picture' : 'subject2.jpg',\n",
    "        'emgs'    : 'subject2.bfts',\n",
    "        'stim'    : 'subject2.csv'\n",
    "    },\n",
    "    'stim_location' : 'ring finger, right paw',\n",
    "    'emgs_channels' : [\n",
    "        {\n",
    "            'channel' : 1,\n",
    "            'location' : 'FCL',\n",
    "            'muscle_name' : 'Flexor Carpi Radialis'\n",
    "        },\n",
    "        {\n",
    "            'channel' : 2,\n",
    "            'location' : 'FCU',\n",
    "            'muscle_name' : 'Flexor Carpi Urnalis'\n",
    "        },\n",
    "        {\n",
    "            'channel' : 3,\n",
    "            'location' : 'ED4',\n",
    "            'muscle_name' : 'Extensor Digitorum Ring'\n",
    "        },\n",
    "        {\n",
    "            'channel' : 4,\n",
    "            'location' : 'FDS2',\n",
    "            'muscle_name' : 'Flexor Digitorum Superficialis Index'\n",
    "        }\n",
    "    ],\n",
    "    'sampling_frequency' : 10000,\n",
    "    'sampling_frequency_units' : 'Hz',\n",
    "    'emg_units' : 'uV',\n",
    "    'time_units' : 's',\n",
    "    'recording_duration' : 10\n",
    "}"
   ]
  },
  {
   "cell_type": "code",
   "execution_count": null,
   "metadata": {},
   "outputs": [],
   "source": [
    "subject2MetadataPath = os.path.join(subject2Path,'subject2.json')\n",
    "subject2MetadataPath"
   ]
  },
  {
   "cell_type": "code",
   "execution_count": null,
   "metadata": {},
   "outputs": [],
   "source": [
    "with open(subject2MetadataPath,'w') as fh:\n",
    "    json.dump(subject2Metadata,fh)"
   ]
  },
  {
   "cell_type": "markdown",
   "metadata": {},
   "source": [
    "Generate emg signals"
   ]
  },
  {
   "cell_type": "code",
   "execution_count": null,
   "metadata": {},
   "outputs": [],
   "source": [
    "emgs2 = generateSignals(\n",
    "    subject2Metadata['recording_duration'],\n",
    "    subject2Metadata['sampling_frequency'],\n",
    "    len(subject2Metadata['emgs_channels']))"
   ]
  },
  {
   "cell_type": "code",
   "execution_count": null,
   "metadata": {},
   "outputs": [],
   "source": [
    "emgs2.to_csv(\n",
    "    os.path.join(\n",
    "        subject2Path,\n",
    "        subject2Metadata['raw_files']['emgs']))"
   ]
  },
  {
   "cell_type": "markdown",
   "metadata": {},
   "source": [
    "Generate stim times"
   ]
  },
  {
   "cell_type": "code",
   "execution_count": null,
   "metadata": {},
   "outputs": [],
   "source": [
    "stim2 = generateStimTimes(subject2Metadata['recording_duration'])"
   ]
  },
  {
   "cell_type": "code",
   "execution_count": null,
   "metadata": {},
   "outputs": [],
   "source": [
    "stim2.columns = ['Stimulation times']"
   ]
  },
  {
   "cell_type": "code",
   "execution_count": null,
   "metadata": {},
   "outputs": [],
   "source": [
    "stim2.to_csv(\n",
    "    os.path.join(\n",
    "        subject2Path,\n",
    "        subject2Metadata['raw_files']['stim']))"
   ]
  },
  {
   "cell_type": "markdown",
   "metadata": {},
   "source": [
    "Download the image"
   ]
  },
  {
   "cell_type": "code",
   "execution_count": null,
   "metadata": {},
   "outputs": [],
   "source": [
    "imageUrl2 = 'https://www.petmd.com/sites/default/files/flea-infestation-ferrets.jpg'"
   ]
  },
  {
   "cell_type": "code",
   "execution_count": null,
   "metadata": {},
   "outputs": [],
   "source": [
    "urllib.request.urlretrieve(\n",
    "    imageUrl2,\n",
    "    os.path.join(\n",
    "        subject2Path,\n",
    "        subject2Metadata['raw_files']['picture']))"
   ]
  },
  {
   "cell_type": "markdown",
   "metadata": {},
   "source": [
    "### Subject 3\n",
    "We create all the files for subject 3, including the subfolder containing them"
   ]
  },
  {
   "cell_type": "code",
   "execution_count": null,
   "metadata": {},
   "outputs": [],
   "source": [
    "subject3Path = os.path.join(DATASET_PATH,'subject_3')\n",
    "subject3Path"
   ]
  },
  {
   "cell_type": "code",
   "execution_count": null,
   "metadata": {},
   "outputs": [],
   "source": [
    "createDirIfNeeded(subject3Path)"
   ]
  },
  {
   "cell_type": "markdown",
   "metadata": {},
   "source": [
    "creates metadata json file"
   ]
  },
  {
   "cell_type": "code",
   "execution_count": null,
   "metadata": {},
   "outputs": [],
   "source": [
    "subject3Metadata = {\n",
    "    'subject_name' : 'Robi',\n",
    "    'subject_id' : 3,\n",
    "    'subject_species' : 'feline',\n",
    "    'date_tested' : '2018/08/08',\n",
    "    'raw_files' : {\n",
    "        'picture' : 'subject3.jpg',\n",
    "        'emgs'    : 'subject3.bfts',\n",
    "        'stim'    : 'subject3.csv'\n",
    "    },\n",
    "    'stim_location' : 'thumb, left front paw',\n",
    "    'emgs_channels' : [\n",
    "        {\n",
    "            'channel' : 1,\n",
    "            'location' : 'FCL',\n",
    "            'muscle_name' : 'Flexor Carpi Radialis'\n",
    "        },\n",
    "        {\n",
    "            'channel' : 3,\n",
    "            'location' : 'ED2',\n",
    "            'muscle_name' : 'Extensor Digitorum Index'\n",
    "        },\n",
    "        {\n",
    "            'channel' : 4,\n",
    "            'location' : 'FDS2',\n",
    "            'muscle_name' : 'Flexor Digitorum Superficialis Index'\n",
    "        }\n",
    "    ],\n",
    "    'sampling_frequency' : 10050,\n",
    "    'sampling_frequency_units' : 'Hz',\n",
    "    'emg_units' : 'uV',\n",
    "    'time_units' : 's',\n",
    "    'recording_duration' : 9\n",
    "}"
   ]
  },
  {
   "cell_type": "code",
   "execution_count": null,
   "metadata": {},
   "outputs": [],
   "source": [
    "subject3MetadataPath = os.path.join(subject3Path,'subject3.json')\n",
    "subject3MetadataPath"
   ]
  },
  {
   "cell_type": "code",
   "execution_count": null,
   "metadata": {},
   "outputs": [],
   "source": [
    "with open(subject3MetadataPath,'w') as fh:\n",
    "    json.dump(subject3Metadata,fh)"
   ]
  },
  {
   "cell_type": "markdown",
   "metadata": {},
   "source": [
    "Generate emg signals"
   ]
  },
  {
   "cell_type": "code",
   "execution_count": null,
   "metadata": {},
   "outputs": [],
   "source": [
    "emgs3 = generateSignals(\n",
    "    subject3Metadata['recording_duration'],\n",
    "    subject3Metadata['sampling_frequency'],\n",
    "    len(subject3Metadata['emgs_channels']))"
   ]
  },
  {
   "cell_type": "code",
   "execution_count": null,
   "metadata": {},
   "outputs": [],
   "source": [
    "emgs3.to_csv(\n",
    "    os.path.join(\n",
    "        subject3Path,\n",
    "        subject3Metadata['raw_files']['emgs']))"
   ]
  },
  {
   "cell_type": "markdown",
   "metadata": {},
   "source": [
    "Generate stim times"
   ]
  },
  {
   "cell_type": "code",
   "execution_count": null,
   "metadata": {},
   "outputs": [],
   "source": [
    "stim3 = generateStimTimes(subject3Metadata['recording_duration'])"
   ]
  },
  {
   "cell_type": "code",
   "execution_count": null,
   "metadata": {},
   "outputs": [],
   "source": [
    "stim3.columns = ['Stimulation times']"
   ]
  },
  {
   "cell_type": "code",
   "execution_count": null,
   "metadata": {},
   "outputs": [],
   "source": [
    "stim3.to_csv(\n",
    "    os.path.join(\n",
    "        subject3Path,\n",
    "        subject3Metadata['raw_files']['stim']))"
   ]
  },
  {
   "cell_type": "markdown",
   "metadata": {},
   "source": [
    "Download the image"
   ]
  },
  {
   "cell_type": "code",
   "execution_count": null,
   "metadata": {},
   "outputs": [],
   "source": [
    "imageUrl3 = 'http://images.fineartamerica.com/images-medium-large/portrait-gray-tabby-cat-maika-777.jpg'"
   ]
  },
  {
   "cell_type": "code",
   "execution_count": null,
   "metadata": {},
   "outputs": [],
   "source": [
    "urllib.request.urlretrieve(\n",
    "    imageUrl3,\n",
    "    os.path.join(\n",
    "        subject3Path,\n",
    "        subject3Metadata['raw_files']['picture']))"
   ]
  },
  {
   "cell_type": "markdown",
   "metadata": {},
   "source": [
    "Data set created\n",
    "Let's check the structure and the files that we created"
   ]
  },
  {
   "cell_type": "code",
   "execution_count": null,
   "metadata": {},
   "outputs": [],
   "source": [
    "prettyShowFolderTree(DATASET_PATH)"
   ]
  },
  {
   "cell_type": "markdown",
   "metadata": {},
   "source": [
    "## Thank you.\n",
    "\n",
    "If you have any question, please come and find me during breaks. This notebook will be available to you through the SPARC material.\n",
    "### Max Novelli (man8@pitt)"
   ]
  }
 ],
 "metadata": {
  "kernelspec": {
   "display_name": "Python 3",
   "language": "python",
   "name": "python3"
  },
  "language_info": {
   "codemirror_mode": {
    "name": "ipython",
    "version": 3
   },
   "file_extension": ".py",
   "mimetype": "text/x-python",
   "name": "python",
   "nbconvert_exporter": "python",
   "pygments_lexer": "ipython3",
   "version": "3.5.2"
  }
 },
 "nbformat": 4,
 "nbformat_minor": 2
}
