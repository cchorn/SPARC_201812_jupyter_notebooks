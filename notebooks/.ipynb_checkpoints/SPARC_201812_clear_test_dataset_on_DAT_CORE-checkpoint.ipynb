{
 "cells": [
  {
   "cell_type": "markdown",
   "metadata": {},
   "source": [
    "# Clear test dataset on DAT CORE\n",
    "## SPARC data meeting\n",
    "### December 5, 2018\n",
    "### by: Max Novelli (man8@pitt.edu), RNEL, University of Pittsburgh"
   ]
  },
  {
   "cell_type": "markdown",
   "metadata": {},
   "source": [
    "**IMPORTANT**  \n",
    "This notebook will delete all the files, all the records and all the models that you have created in your test dataset on DAT CORE (Blackfynn)  \n",
    "_Use with caution_"
   ]
  },
  {
   "cell_type": "markdown",
   "metadata": {},
   "source": [
    "Import al the libraries that I need"
   ]
  },
  {
   "cell_type": "code",
   "execution_count": 1,
   "metadata": {},
   "outputs": [],
   "source": [
    "from blackfynn import Blackfynn\n",
    "from blackfynn.models import Collection,DataPackage"
   ]
  },
  {
   "cell_type": "markdown",
   "metadata": {},
   "source": [
    "Load library notebook"
   ]
  },
  {
   "cell_type": "code",
   "execution_count": 2,
   "metadata": {},
   "outputs": [],
   "source": [
    "%run SPARC_201812_library.ipynb"
   ]
  },
  {
   "cell_type": "code",
   "execution_count": 3,
   "metadata": {},
   "outputs": [
    {
     "data": {
      "text/plain": [
       "'SPARC December 2018 Presentation'"
      ]
     },
     "execution_count": 3,
     "metadata": {},
     "output_type": "execute_result"
    }
   ],
   "source": [
    "DATCORE_DATASET"
   ]
  },
  {
   "cell_type": "markdown",
   "metadata": {},
   "source": [
    "Instantiate DAT CORE environment"
   ]
  },
  {
   "cell_type": "code",
   "execution_count": 4,
   "metadata": {},
   "outputs": [],
   "source": [
    "dcInstance = Blackfynn()"
   ]
  },
  {
   "cell_type": "markdown",
   "metadata": {},
   "source": [
    "Retrieve our data set"
   ]
  },
  {
   "cell_type": "code",
   "execution_count": 5,
   "metadata": {},
   "outputs": [
    {
     "data": {
      "text/plain": [
       "<Dataset name='SPARC December 2018 Presentation' id='N:dataset:586237f2-46c6-47a1-ada4-ae06ca62e6e2'>"
      ]
     },
     "execution_count": 5,
     "metadata": {},
     "output_type": "execute_result"
    }
   ],
   "source": [
    "dcDataset = dcInstance.get_dataset(DATCORE_DATASET)\n",
    "dcDataset"
   ]
  },
  {
   "cell_type": "markdown",
   "metadata": {},
   "source": [
    "Let's check what our dataset contains"
   ]
  },
  {
   "cell_type": "code",
   "execution_count": 6,
   "metadata": {},
   "outputs": [
    {
     "name": "stdout",
     "output_type": "stream",
     "text": [
      "--------------------------------------------\n",
      "DAT CORE\n",
      "Dataset : SPARC December 2018 Presentation\n",
      "Collections(Folders) and DataPackages(Files)\n",
      "--------------------------------------------\n",
      "    DataPackage = dataset.json\n",
      "        File       = dataset (dataset.json)\n",
      "    Collection = subject_1\n",
      "        DataPackage = subject1.csv\n",
      "            File       = subject1 (subject1.csv)\n",
      "        DataPackage = subject1.bfts\n",
      "            File       = subject1 (subject1.bfts)\n",
      "        DataPackage = subject1.json\n",
      "            File       = subject1 (subject1.json)\n",
      "        DataPackage = subject1.jpeg\n",
      "            File       = subject1 (subject1.jpg)\n",
      "    Collection = subject_2\n",
      "        DataPackage = subject2.bfts\n",
      "            File       = subject2 (subject2.bfts)\n",
      "        DataPackage = subject2.csv\n",
      "            File       = subject2 (subject2.csv)\n",
      "        DataPackage = subject2.json\n",
      "            File       = subject2 (subject2.json)\n",
      "        DataPackage = subject2.jpeg\n",
      "            File       = subject2 (subject2.jpg)\n",
      "    Collection = subject_3\n",
      "        DataPackage = subject3.jpeg\n",
      "            File       = subject3 (subject3.jpg)\n",
      "        DataPackage = subject3.csv\n",
      "            File       = subject3 (subject3.csv)\n",
      "        DataPackage = subject3.bfts\n",
      "            File       = subject3 (subject3.bfts)\n",
      "        DataPackage = subject3.json\n",
      "            File       = subject3 (subject3.json)\n"
     ]
    }
   ],
   "source": [
    "prettyShowDatCoreDatasetFiles(dcDataset)"
   ]
  },
  {
   "cell_type": "markdown",
   "metadata": {},
   "source": [
    "Remove all the files"
   ]
  },
  {
   "cell_type": "code",
   "execution_count": 7,
   "metadata": {},
   "outputs": [
    {
     "name": "stdout",
     "output_type": "stream",
     "text": [
      "Deleting dataset\n",
      "Deleting subject_1\n",
      "Deleting subject_2\n",
      "Deleting subject_3\n"
     ]
    }
   ],
   "source": [
    "for item in dcDataset.items:\n",
    "    print('Deleting ' + item.name)\n",
    "    item.delete()"
   ]
  },
  {
   "cell_type": "markdown",
   "metadata": {},
   "source": [
    "Sync with Blackfynn"
   ]
  },
  {
   "cell_type": "code",
   "execution_count": 8,
   "metadata": {},
   "outputs": [],
   "source": [
    "dcDataset.update()"
   ]
  },
  {
   "cell_type": "markdown",
   "metadata": {},
   "source": [
    "Verify that there are no more items in the dataset"
   ]
  },
  {
   "cell_type": "code",
   "execution_count": 9,
   "metadata": {},
   "outputs": [
    {
     "data": {
      "text/plain": [
       "[]"
      ]
     },
     "execution_count": 9,
     "metadata": {},
     "output_type": "execute_result"
    }
   ],
   "source": [
    "dcDataset.items"
   ]
  },
  {
   "cell_type": "markdown",
   "metadata": {},
   "source": [
    "Let's check which models our dataset contains"
   ]
  },
  {
   "cell_type": "code",
   "execution_count": 10,
   "metadata": {},
   "outputs": [
    {
     "name": "stdout",
     "output_type": "stream",
     "text": [
      "--------------------------------------------\n",
      "DAT CORE\n",
      "Dataset : SPARC December 2018 Presentation\n",
      "Models, and Records\n",
      "--------------------------------------------\n",
      "--------------------------------------------\n",
      "Relationships\n",
      "--------------------------------------------\n",
      "     Relationship : has_data_file\n",
      "     Relationship : has_emg_channel\n"
     ]
    }
   ],
   "source": [
    "dcDataset.update()\n",
    "prettyShowDatCoreDatasetModels(dcDataset)"
   ]
  },
  {
   "cell_type": "markdown",
   "metadata": {},
   "source": [
    "Remove records and models"
   ]
  },
  {
   "cell_type": "code",
   "execution_count": 11,
   "metadata": {},
   "outputs": [],
   "source": [
    "# loops on all the models\n",
    "for mName,mObject in dcDataset.models().items():\n",
    "    print('Deleting ' + mName,end='')\n",
    "    # keep deleting until all the records are gone\n",
    "    while mObject.count > 0:\n",
    "        print('.',end='')\n",
    "        records = mObject.get_all()\n",
    "        mObject.delete_records(*records)\n",
    "        mObject.update()\n",
    "    # delete model\n",
    "    mObject.delete()\n",
    "    print('*')"
   ]
  },
  {
   "cell_type": "markdown",
   "metadata": {},
   "source": [
    "Let's check if all the models have been deleted"
   ]
  },
  {
   "cell_type": "code",
   "execution_count": 12,
   "metadata": {},
   "outputs": [
    {
     "data": {
      "text/plain": [
       "{}"
      ]
     },
     "execution_count": 12,
     "metadata": {},
     "output_type": "execute_result"
    }
   ],
   "source": [
    "dcDataset.models()"
   ]
  },
  {
   "cell_type": "markdown",
   "metadata": {},
   "source": [
    "Remove relationships. Cannot be done from API yet!!!"
   ]
  },
  {
   "cell_type": "code",
   "execution_count": 13,
   "metadata": {},
   "outputs": [],
   "source": [
    "# loops on all the relationships\n",
    "#for rName,rObject in dcDataset.relationships().items():\n",
    "#    print('Deleting ' + rName,end='')\n",
    "#    # delete relationship\n",
    "#    rObject.delete()\n",
    "#    print('*')"
   ]
  },
  {
   "cell_type": "markdown",
   "metadata": {},
   "source": [
    "The DAT CORE dataset should be empty"
   ]
  }
 ],
 "metadata": {
  "kernelspec": {
   "display_name": "Python 3",
   "language": "python",
   "name": "python3"
  },
  "language_info": {
   "codemirror_mode": {
    "name": "ipython",
    "version": 3
   },
   "file_extension": ".py",
   "mimetype": "text/x-python",
   "name": "python",
   "nbconvert_exporter": "python",
   "pygments_lexer": "ipython3",
   "version": "3.5.2"
  }
 },
 "nbformat": 4,
 "nbformat_minor": 2
}
