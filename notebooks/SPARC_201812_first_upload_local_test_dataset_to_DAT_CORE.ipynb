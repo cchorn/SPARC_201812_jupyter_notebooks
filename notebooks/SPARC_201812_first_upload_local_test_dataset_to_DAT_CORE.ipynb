{
 "cells": [
  {
   "cell_type": "markdown",
   "metadata": {
    "slideshow": {
     "slide_type": "slide"
    }
   },
   "source": [
    "# Upload a local dataset to DAT CORE\n",
    "## SPARC data meeting\n",
    "### December 5, 2018\n",
    "\n",
    "### by: Max Novelli (man8@pitt.edu) RNEL, University of Pittsburgh"
   ]
  },
  {
   "cell_type": "markdown",
   "metadata": {
    "slideshow": {
     "slide_type": "slide"
    }
   },
   "source": [
    "The first thing you do in python, is to import all the libraries needed in your script.  \n",
    "For our purposes, the most important one is the library that allow us to connect to DAT CORE\n",
    "```python\n",
    "from blackfynn import Blackfynn\n",
    "```"
   ]
  },
  {
   "cell_type": "markdown",
   "metadata": {
    "slideshow": {
     "slide_type": "subslide"
    }
   },
   "source": [
    "Import all the libraries that I need"
   ]
  },
  {
   "cell_type": "code",
   "execution_count": 1,
   "metadata": {
    "slideshow": {
     "slide_type": "fragment"
    }
   },
   "outputs": [],
   "source": [
    "import os\n",
    "from blackfynn import Blackfynn\n",
    "from blackfynn.models import Collection,DataPackage\n",
    "import pprint\n",
    "pp = pprint.PrettyPrinter()\n",
    "from IPython.display import Image"
   ]
  },
  {
   "cell_type": "markdown",
   "metadata": {
    "slideshow": {
     "slide_type": "subslide"
    }
   },
   "source": [
    "Import library notebook"
   ]
  },
  {
   "cell_type": "code",
   "execution_count": 2,
   "metadata": {
    "slideshow": {
     "slide_type": "fragment"
    }
   },
   "outputs": [],
   "source": [
    "%run SPARC_201812_library.ipynb"
   ]
  },
  {
   "cell_type": "code",
   "execution_count": 3,
   "metadata": {
    "slideshow": {
     "slide_type": "fragment"
    }
   },
   "outputs": [
    {
     "data": {
      "text/plain": [
       "('SPARC December 2018 Presentation',\n",
       " '/home/nitrosx/Documents/RNEL/Presentations/SPARC.20181205/notebooks/../SPARC_local_test_dataset')"
      ]
     },
     "execution_count": 3,
     "metadata": {},
     "output_type": "execute_result"
    }
   ],
   "source": [
    "DATCORE_DATASET, DATASET_PATH"
   ]
  },
  {
   "cell_type": "markdown",
   "metadata": {
    "slideshow": {
     "slide_type": "subslide"
    }
   },
   "source": [
    "Let's verify where the local test dataset is located"
   ]
  },
  {
   "cell_type": "code",
   "execution_count": 4,
   "metadata": {
    "scrolled": true,
    "slideshow": {
     "slide_type": "fragment"
    }
   },
   "outputs": [
    {
     "data": {
      "text/plain": [
       "'/home/nitrosx/Documents/RNEL/Presentations/SPARC.20181205/notebooks/../SPARC_local_test_dataset'"
      ]
     },
     "execution_count": 4,
     "metadata": {},
     "output_type": "execute_result"
    }
   ],
   "source": [
    "DATASET_PATH"
   ]
  },
  {
   "cell_type": "markdown",
   "metadata": {
    "slideshow": {
     "slide_type": "slide"
    }
   },
   "source": [
    "Let's explore the content of our local test dataset"
   ]
  },
  {
   "cell_type": "code",
   "execution_count": 5,
   "metadata": {
    "slideshow": {
     "slide_type": "fragment"
    }
   },
   "outputs": [
    {
     "name": "stdout",
     "output_type": "stream",
     "text": [
      "SPARC_local_test_dataset/\n",
      "    dataset.json\n",
      "    subject_3/\n",
      "        subject3.json\n",
      "        subject3.csv\n",
      "        subject3.jpg\n",
      "        subject3.bfts\n",
      "    subject_2/\n",
      "        subject2.bfts\n",
      "        subject2.json\n",
      "        subject2.jpg\n",
      "        subject2.csv\n",
      "    subject_1/\n",
      "        subject1.jpg\n",
      "        subject1.bfts\n",
      "        subject1.json\n",
      "        subject1.csv\n"
     ]
    }
   ],
   "source": [
    "prettyShowFolderTree(DATASET_PATH)"
   ]
  },
  {
   "cell_type": "markdown",
   "metadata": {
    "slideshow": {
     "slide_type": "slide"
    }
   },
   "source": [
    "Before we continue, we need to define few **concepts** that are necesseray to understand how DAT CORE works"
   ]
  },
  {
   "cell_type": "markdown",
   "metadata": {
    "slideshow": {
     "slide_type": "fragment"
    }
   },
   "source": [
    "- folders\n",
    "    - DAT CORE : collections\n",
    "    - action : create"
   ]
  },
  {
   "cell_type": "markdown",
   "metadata": {
    "slideshow": {
     "slide_type": "fragment"
    }
   },
   "source": [
    "- files\n",
    "    - DAT CORE: dataPackages which contains the files uploaded\n",
    "    - action: upload"
   ]
  },
  {
   "cell_type": "markdown",
   "metadata": {
    "slideshow": {
     "slide_type": "slide"
    }
   },
   "source": [
    "First thing we build a list with all the elements in our dataset that needs to be created/uploaded to DAT CORE."
   ]
  },
  {
   "cell_type": "markdown",
   "metadata": {
    "slideshow": {
     "slide_type": "fragment"
    }
   },
   "source": [
    "We are going to accomplish the task by defining a recursive function named  \n",
    "```python\n",
    "elements = buildUploadElementsList(DATASET_PATH)\n",
    "```\n",
    "which traverse the dataset and returns the list of what we need to upload.\n"
   ]
  },
  {
   "cell_type": "code",
   "execution_count": 6,
   "metadata": {
    "slideshow": {
     "slide_type": "fragment"
    }
   },
   "outputs": [],
   "source": [
    "def buildUploadElementsList(path,parent=None,level=0):\n",
    "    actions = []\n",
    "    for item in os.listdir(path):\n",
    "        fullpath = os.path.join(path,item)\n",
    "        if os.path.isfile(fullpath):\n",
    "            actions.append({\n",
    "                'element' : 'file',\n",
    "                'action' : 'upload',\n",
    "                'file' : item,\n",
    "                'fullpath' : fullpath,\n",
    "                'parent' : parent,\n",
    "                'level' : level\n",
    "            })\n",
    "        elif os.path.isdir(fullpath):\n",
    "            actions.append({\n",
    "                'element' : 'collection',\n",
    "                'action' : 'create',\n",
    "                'collection' : item,\n",
    "                'parent' : parent,\n",
    "                'level' : level,\n",
    "                'children' : buildUploadElementsList(\n",
    "                    os.path.join(path,item),\n",
    "                    item,\n",
    "                    level+1)})\n",
    "    return actions"
   ]
  },
  {
   "cell_type": "code",
   "execution_count": 7,
   "metadata": {
    "scrolled": true,
    "slideshow": {
     "slide_type": "skip"
    }
   },
   "outputs": [
    {
     "name": "stdout",
     "output_type": "stream",
     "text": [
      "[{'action': 'create',\n",
      "  'children': [{'action': 'upload',\n",
      "                'element': 'file',\n",
      "                'file': 'subject3.json',\n",
      "                'fullpath': '/home/nitrosx/Documents/RNEL/Presentations/SPARC.20181205/notebooks/../SPARC_local_test_dataset/subject_3/subject3.json',\n",
      "                'level': 1,\n",
      "                'parent': 'subject_3'},\n",
      "               {'action': 'upload',\n",
      "                'element': 'file',\n",
      "                'file': 'subject3.csv',\n",
      "                'fullpath': '/home/nitrosx/Documents/RNEL/Presentations/SPARC.20181205/notebooks/../SPARC_local_test_dataset/subject_3/subject3.csv',\n",
      "                'level': 1,\n",
      "                'parent': 'subject_3'},\n",
      "               {'action': 'upload',\n",
      "                'element': 'file',\n",
      "                'file': 'subject3.jpg',\n",
      "                'fullpath': '/home/nitrosx/Documents/RNEL/Presentations/SPARC.20181205/notebooks/../SPARC_local_test_dataset/subject_3/subject3.jpg',\n",
      "                'level': 1,\n",
      "                'parent': 'subject_3'},\n",
      "               {'action': 'upload',\n",
      "                'element': 'file',\n",
      "                'file': 'subject3.bfts',\n",
      "                'fullpath': '/home/nitrosx/Documents/RNEL/Presentations/SPARC.20181205/notebooks/../SPARC_local_test_dataset/subject_3/subject3.bfts',\n",
      "                'level': 1,\n",
      "                'parent': 'subject_3'}],\n",
      "  'collection': 'subject_3',\n",
      "  'element': 'collection',\n",
      "  'level': 0,\n",
      "  'parent': None},\n",
      " {'action': 'create',\n",
      "  'children': [{'action': 'upload',\n",
      "                'element': 'file',\n",
      "                'file': 'subject2.bfts',\n",
      "                'fullpath': '/home/nitrosx/Documents/RNEL/Presentations/SPARC.20181205/notebooks/../SPARC_local_test_dataset/subject_2/subject2.bfts',\n",
      "                'level': 1,\n",
      "                'parent': 'subject_2'},\n",
      "               {'action': 'upload',\n",
      "                'element': 'file',\n",
      "                'file': 'subject2.json',\n",
      "                'fullpath': '/home/nitrosx/Documents/RNEL/Presentations/SPARC.20181205/notebooks/../SPARC_local_test_dataset/subject_2/subject2.json',\n",
      "                'level': 1,\n",
      "                'parent': 'subject_2'},\n",
      "               {'action': 'upload',\n",
      "                'element': 'file',\n",
      "                'file': 'subject2.jpg',\n",
      "                'fullpath': '/home/nitrosx/Documents/RNEL/Presentations/SPARC.20181205/notebooks/../SPARC_local_test_dataset/subject_2/subject2.jpg',\n",
      "                'level': 1,\n",
      "                'parent': 'subject_2'},\n",
      "               {'action': 'upload',\n",
      "                'element': 'file',\n",
      "                'file': 'subject2.csv',\n",
      "                'fullpath': '/home/nitrosx/Documents/RNEL/Presentations/SPARC.20181205/notebooks/../SPARC_local_test_dataset/subject_2/subject2.csv',\n",
      "                'level': 1,\n",
      "                'parent': 'subject_2'}],\n",
      "  'collection': 'subject_2',\n",
      "  'element': 'collection',\n",
      "  'level': 0,\n",
      "  'parent': None},\n",
      " {'action': 'create',\n",
      "  'children': [{'action': 'upload',\n",
      "                'element': 'file',\n",
      "                'file': 'subject1.jpg',\n",
      "                'fullpath': '/home/nitrosx/Documents/RNEL/Presentations/SPARC.20181205/notebooks/../SPARC_local_test_dataset/subject_1/subject1.jpg',\n",
      "                'level': 1,\n",
      "                'parent': 'subject_1'},\n",
      "               {'action': 'upload',\n",
      "                'element': 'file',\n",
      "                'file': 'subject1.bfts',\n",
      "                'fullpath': '/home/nitrosx/Documents/RNEL/Presentations/SPARC.20181205/notebooks/../SPARC_local_test_dataset/subject_1/subject1.bfts',\n",
      "                'level': 1,\n",
      "                'parent': 'subject_1'},\n",
      "               {'action': 'upload',\n",
      "                'element': 'file',\n",
      "                'file': 'subject1.json',\n",
      "                'fullpath': '/home/nitrosx/Documents/RNEL/Presentations/SPARC.20181205/notebooks/../SPARC_local_test_dataset/subject_1/subject1.json',\n",
      "                'level': 1,\n",
      "                'parent': 'subject_1'},\n",
      "               {'action': 'upload',\n",
      "                'element': 'file',\n",
      "                'file': 'subject1.csv',\n",
      "                'fullpath': '/home/nitrosx/Documents/RNEL/Presentations/SPARC.20181205/notebooks/../SPARC_local_test_dataset/subject_1/subject1.csv',\n",
      "                'level': 1,\n",
      "                'parent': 'subject_1'}],\n",
      "  'collection': 'subject_1',\n",
      "  'element': 'collection',\n",
      "  'level': 0,\n",
      "  'parent': None},\n",
      " {'action': 'upload',\n",
      "  'element': 'file',\n",
      "  'file': 'dataset.json',\n",
      "  'fullpath': '/home/nitrosx/Documents/RNEL/Presentations/SPARC.20181205/notebooks/../SPARC_local_test_dataset/dataset.json',\n",
      "  'level': 0,\n",
      "  'parent': None}]\n"
     ]
    }
   ],
   "source": [
    "elements = buildUploadElementsList(DATASET_PATH)\n",
    "pp.pprint(elements)"
   ]
  },
  {
   "cell_type": "markdown",
   "metadata": {
    "slideshow": {
     "slide_type": "subslide"
    }
   },
   "source": [
    "Let's define a function that prints nicely the list of elements"
   ]
  },
  {
   "cell_type": "code",
   "execution_count": 8,
   "metadata": {
    "slideshow": {
     "slide_type": "fragment"
    }
   },
   "outputs": [],
   "source": [
    "def prettyShowUploadElementsList(elements,level=0):\n",
    "    for element in elements:\n",
    "        print(\n",
    "            '{:s} {:s} {:s} {:s}'.format(\n",
    "                ' '*PRETTY_INDENTATION*level,\n",
    "                element['action'],\n",
    "                element['element'],\n",
    "                element['collection' if element['element'] == 'collection' else 'file']))\n",
    "        if element['element'] == 'collection' and 'children' in element.keys() and len(element['children']) > 0:\n",
    "            prettyShowUploadElementsList(element['children'],level+1)\n",
    "        "
   ]
  },
  {
   "cell_type": "markdown",
   "metadata": {
    "slideshow": {
     "slide_type": "slide"
    }
   },
   "source": [
    "Here is what we obtain when we run the _buildUploadElementsList_ function previously defined on our dataset."
   ]
  },
  {
   "cell_type": "code",
   "execution_count": 9,
   "metadata": {
    "slideshow": {
     "slide_type": "fragment"
    }
   },
   "outputs": [
    {
     "name": "stdout",
     "output_type": "stream",
     "text": [
      " create collection subject_3\n",
      "     upload file subject3.json\n",
      "     upload file subject3.csv\n",
      "     upload file subject3.jpg\n",
      "     upload file subject3.bfts\n",
      " create collection subject_2\n",
      "     upload file subject2.bfts\n",
      "     upload file subject2.json\n",
      "     upload file subject2.jpg\n",
      "     upload file subject2.csv\n",
      " create collection subject_1\n",
      "     upload file subject1.jpg\n",
      "     upload file subject1.bfts\n",
      "     upload file subject1.json\n",
      "     upload file subject1.csv\n",
      " upload file dataset.json\n"
     ]
    }
   ],
   "source": [
    "prettyShowUploadElementsList(elements)"
   ]
  },
  {
   "cell_type": "markdown",
   "metadata": {
    "slideshow": {
     "slide_type": "slide"
    }
   },
   "source": [
    "#### Now we are ready to populate our dataset on DAT CORE"
   ]
  },
  {
   "cell_type": "markdown",
   "metadata": {
    "slideshow": {
     "slide_type": "fragment"
    }
   },
   "source": [
    "Let's instantiate the DAT CORE environment"
   ]
  },
  {
   "cell_type": "code",
   "execution_count": 10,
   "metadata": {
    "slideshow": {
     "slide_type": "fragment"
    }
   },
   "outputs": [],
   "source": [
    "dcInstance = Blackfynn()"
   ]
  },
  {
   "cell_type": "markdown",
   "metadata": {
    "slideshow": {
     "slide_type": "fragment"
    }
   },
   "source": [
    "We create or get our dataset"
   ]
  },
  {
   "cell_type": "code",
   "execution_count": 11,
   "metadata": {
    "slideshow": {
     "slide_type": "fragment"
    }
   },
   "outputs": [
    {
     "data": {
      "text/plain": [
       "<Dataset name='SPARC December 2018 Presentation' id='N:dataset:586237f2-46c6-47a1-ada4-ae06ca62e6e2'>"
      ]
     },
     "execution_count": 11,
     "metadata": {},
     "output_type": "execute_result"
    }
   ],
   "source": [
    "if DATCORE_DATASET in [item.name for item in dcInstance.datasets()]:\n",
    "    dcDataset = dcInstance.get_dataset(DATCORE_DATASET)\n",
    "else:\n",
    "    dcDataset = dcInstance.create_dataset(DATCORE_DATASET)\n",
    "dcDataset"
   ]
  },
  {
   "cell_type": "markdown",
   "metadata": {
    "slideshow": {
     "slide_type": "slide"
    }
   },
   "source": [
    "In order to perform the upload,  \n",
    "we create the **function** _datcoreUploadElements_ which runs through the list **elements**  \n",
    "and create collections (folders) and upload files, which are than presented as dataPackages"
   ]
  },
  {
   "cell_type": "code",
   "execution_count": 12,
   "metadata": {
    "slideshow": {
     "slide_type": "fragment"
    }
   },
   "outputs": [],
   "source": [
    "def datcoreUploadElements(elements,hPC):\n",
    "    '''\n",
    "    input:\n",
    "     - actions: list of all the actions to be performed on Blackfynn, organized in a hierarchical list\n",
    "     - hPC: dat core parent container where we should take action in\n",
    "    '''\n",
    "    # loop on all the actions\n",
    "    for item in elements:\n",
    "        # provide visual feedback to user\n",
    "        print('Action : {:10s}, Parent: {:50s}'.format(item['action'],hPC.name),end='')\n",
    "        # act on the action\n",
    "        if item['element'] == 'collection':\n",
    "            # here we address collection creation\n",
    "            print('Collection : {:20s}'.format(item['collection']))\n",
    "            # create collection on bf\n",
    "            hC = hPC.create_collection(item['collection'])\n",
    "            # save handle\n",
    "            item['bfObject'] = hC\n",
    "            # if there are children, descend in to the children list\n",
    "            if 'children' in item.keys() and len(item['children']) > 0:\n",
    "                datcoreUploadElements(item['children'],hC)\n",
    "        elif item['element'] == 'file':\n",
    "            # here we address file uploading\n",
    "            print('File : {:20s}'.format(item['file']))\n",
    "            # upload file\n",
    "            res = hPC.upload(item['fullpath'])\n",
    "            # save upload results\n",
    "            item['bfResults'] = res\n",
    "            "
   ]
  },
  {
   "cell_type": "markdown",
   "metadata": {
    "slideshow": {
     "slide_type": "slide"
    }
   },
   "source": [
    "Now, we are really ready to upload...  \n",
    "Let's run the function and do the upload"
   ]
  },
  {
   "cell_type": "code",
   "execution_count": 13,
   "metadata": {
    "slideshow": {
     "slide_type": "fragment"
    }
   },
   "outputs": [
    {
     "name": "stdout",
     "output_type": "stream",
     "text": [
      "Action : create    , Parent: SPARC December 2018 Presentation                  Collection : subject_3           \n",
      "Action : upload    , Parent: subject_3                                         File : subject3.json       \n",
      "Action : upload    , Parent: subject_3                                         File : subject3.csv        \n",
      "Action : upload    , Parent: subject_3                                         File : subject3.jpg        \n",
      "Action : upload    , Parent: subject_3                                         File : subject3.bfts       \n",
      "Action : create    , Parent: SPARC December 2018 Presentation                  Collection : subject_2           \n",
      "Action : upload    , Parent: subject_2                                         File : subject2.bfts       \n",
      "Action : upload    , Parent: subject_2                                         File : subject2.json       \n",
      "Action : upload    , Parent: subject_2                                         File : subject2.jpg        \n",
      "Action : upload    , Parent: subject_2                                         File : subject2.csv        \n",
      "Action : create    , Parent: SPARC December 2018 Presentation                  Collection : subject_1           \n",
      "Action : upload    , Parent: subject_1                                         File : subject1.jpg        \n",
      "Action : upload    , Parent: subject_1                                         File : subject1.bfts       \n",
      "Action : upload    , Parent: subject_1                                         File : subject1.json       \n",
      "Action : upload    , Parent: subject_1                                         File : subject1.csv        \n",
      "Action : upload    , Parent: SPARC December 2018 Presentation                  File : dataset.json        \n"
     ]
    }
   ],
   "source": [
    "datcoreUploadElements(elements,dcDataset)"
   ]
  },
  {
   "cell_type": "markdown",
   "metadata": {
    "slideshow": {
     "slide_type": "slide"
    }
   },
   "source": [
    "Now we do some error checking.  \n",
    "Let's print them nicely and check the results"
   ]
  },
  {
   "cell_type": "markdown",
   "metadata": {
    "slideshow": {
     "slide_type": "skip"
    }
   },
   "source": [
    "<!-- The function _datcoreUploadElements_ returns results of every action performed  -->"
   ]
  },
  {
   "cell_type": "code",
   "execution_count": 20,
   "metadata": {
    "slideshow": {
     "slide_type": "skip"
    }
   },
   "outputs": [],
   "source": [
    "def prettyShowUploadResults(elements,level=0):\n",
    "    for element in elements:\n",
    "        print(\n",
    "            '{:40s} -> {:s}'.format(\n",
    "                ' '.join([\n",
    "                    element['action'],\n",
    "                    element['element'],\n",
    "                    element['collection' if element['element'] == 'collection' else 'file']]),\n",
    "                element['bfObject'].id \\\n",
    "                    if element['element'] == 'collection' \\\n",
    "                    else element['bfResults'][0][0]['manifest']['content']['packageNodeId']))\n",
    "        if element['element'] == 'collection' and 'children' in element.keys() and len(element['children']) > 0:\n",
    "            prettyShowUploadResults(element['children'],level+1)"
   ]
  },
  {
   "cell_type": "code",
   "execution_count": 15,
   "metadata": {
    "slideshow": {
     "slide_type": "fragment"
    }
   },
   "outputs": [
    {
     "name": "stdout",
     "output_type": "stream",
     "text": [
      "create collection subject_3              -> N:collection:e308a053-874b-4657-a99b-f42b52385844\n",
      "upload file subject3.json                -> N:package:67965622-58ec-44df-9be8-527d2a45b2c4\n",
      "upload file subject3.csv                 -> N:package:2e28f252-2789-4092-86fb-f955382c88e5\n",
      "upload file subject3.jpg                 -> N:package:344483ea-7e64-4d8f-ba13-7b35652cf920\n",
      "upload file subject3.bfts                -> N:package:68df3ab4-c895-464e-951b-cbd237407362\n",
      "create collection subject_2              -> N:collection:e13e45af-6773-4b90-9ec7-e7a97b309ac8\n",
      "upload file subject2.bfts                -> N:package:a63b8e1e-82fa-455f-ae97-a2cd7604e25a\n",
      "upload file subject2.json                -> N:package:75d6dc58-10ac-43d1-8d15-8e89e835cdda\n",
      "upload file subject2.jpg                 -> N:package:8be9e929-27bc-4441-84e1-d03e41ab1c87\n",
      "upload file subject2.csv                 -> N:package:46601b4c-be42-4d4a-a375-7cce21d67dcb\n",
      "create collection subject_1              -> N:collection:5667a14f-8e89-4436-8d51-c5ce955d77c0\n",
      "upload file subject1.jpg                 -> N:package:cff76260-0b2a-45fb-b5c6-d9afd5cae80f\n",
      "upload file subject1.bfts                -> N:package:95532c93-a47f-456e-9f6b-66d2f51de77c\n",
      "upload file subject1.json                -> N:package:565a73c0-24e6-4e72-b3e1-e0c42b076d88\n",
      "upload file subject1.csv                 -> N:package:e2a61132-0d39-422b-bd9b-c7a8e854f934\n",
      "upload file dataset.json                 -> N:package:224c6ee8-c227-4cf1-9aea-ea43323592b4\n"
     ]
    }
   ],
   "source": [
    "prettyShowUploadResults(elements)"
   ]
  },
  {
   "cell_type": "markdown",
   "metadata": {
    "slideshow": {
     "slide_type": "slide"
    }
   },
   "source": [
    "### Everything looks good.   \n",
    "Every element has been created and it has been assigned an id from DAT CORE"
   ]
  },
  {
   "cell_type": "markdown",
   "metadata": {
    "slideshow": {
     "slide_type": "slide"
    }
   },
   "source": [
    "Now let's check directly on DAT CORE"
   ]
  },
  {
   "cell_type": "code",
   "execution_count": 16,
   "metadata": {
    "slideshow": {
     "slide_type": "fragment"
    }
   },
   "outputs": [],
   "source": [
    "dcDataset.update()"
   ]
  },
  {
   "cell_type": "code",
   "execution_count": 17,
   "metadata": {
    "scrolled": true,
    "slideshow": {
     "slide_type": "fragment"
    }
   },
   "outputs": [
    {
     "name": "stdout",
     "output_type": "stream",
     "text": [
      "--------------------------------------------\n",
      "DAT CORE\n",
      "Dataset : SPARC December 2018 Presentation\n",
      "Collections(Folders) and DataPackages(Files)\n",
      "--------------------------------------------\n",
      "    DataPackage = dataset.json\n",
      "        File       = dataset (dataset.json)\n",
      "    Collection = subject_1\n",
      "        DataPackage = subject1.jpeg\n",
      "            File       = subject1 (subject1.jpg)\n",
      "        DataPackage = subject1.json\n",
      "            File       = subject1 (subject1.json)\n",
      "        DataPackage = subject1.bfts\n",
      "            File       = subject1 (subject1.bfts)\n",
      "        DataPackage = subject1.csv\n",
      "            File       = subject1 (subject1.csv)\n",
      "    Collection = subject_2\n",
      "        DataPackage = subject2.json\n",
      "            File       = subject2 (subject2.json)\n",
      "        DataPackage = subject2.jpeg\n",
      "            File       = subject2 (subject2.jpg)\n",
      "        DataPackage = subject2.bfts\n",
      "            File       = subject2 (subject2.bfts)\n",
      "        DataPackage = subject2.csv\n",
      "            File       = subject2 (subject2.csv)\n",
      "    Collection = subject_3\n",
      "        DataPackage = subject3.bfts\n",
      "            File       = subject3 (subject3.bfts)\n",
      "        DataPackage = subject3.jpeg\n",
      "            File       = subject3 (subject3.jpg)\n",
      "        DataPackage = subject3.json\n",
      "            File       = subject3 (subject3.json)\n",
      "        DataPackage = subject3.csv\n",
      "            File       = subject3 (subject3.csv)\n"
     ]
    }
   ],
   "source": [
    "prettyShowDatCoreDatasetFiles(dcDataset)"
   ]
  },
  {
   "cell_type": "markdown",
   "metadata": {
    "slideshow": {
     "slide_type": "slide"
    }
   },
   "source": [
    "Let's verify on DAT CORE web interface...  \n",
    "Dataset top level:"
   ]
  },
  {
   "cell_type": "code",
   "execution_count": 18,
   "metadata": {
    "slideshow": {
     "slide_type": "fragment"
    }
   },
   "outputs": [
    {
     "data": {
      "image/png": "[encoded data removed]",
      "text/plain": [
       "<IPython.core.display.Image object>"
      ]
     },
     "execution_count": 18,
     "metadata": {},
     "output_type": "execute_result"
    }
   ],
   "source": [
    "Image(filename='../images/dataset_files_uploaded_1.png')"
   ]
  },
  {
   "cell_type": "markdown",
   "metadata": {
    "slideshow": {
     "slide_type": "slide"
    }
   },
   "source": [
    "Folder for subject 1:"
   ]
  },
  {
   "cell_type": "code",
   "execution_count": 19,
   "metadata": {
    "slideshow": {
     "slide_type": "fragment"
    }
   },
   "outputs": [
    {
     "data": {
      "image/png": "[encoded data removed]",
      "text/plain": [
       "<IPython.core.display.Image object>"
      ]
     },
     "execution_count": 19,
     "metadata": {},
     "output_type": "execute_result"
    }
   ],
   "source": [
    "Image(filename='../images/dataset_files_uploaded_2.png')"
   ]
  },
  {
   "cell_type": "markdown",
   "metadata": {
    "slideshow": {
     "slide_type": "slide"
    }
   },
   "source": [
    "## Congratulation!!! Test dataset uploaded."
   ]
  },
  {
   "cell_type": "markdown",
   "metadata": {
    "slideshow": {
     "slide_type": "fragment"
    }
   },
   "source": [
    "## Thank you.\n",
    "If you have any question, please come and find me during breaks.  \n",
    "This notebook will be available to you through the SPARC material.  \n",
    "Max Novelli (man8@pitt)"
   ]
  },
  {
   "cell_type": "code",
   "execution_count": null,
   "metadata": {},
   "outputs": [],
   "source": []
  }
 ],
 "metadata": {
  "celltoolbar": "Slideshow",
  "kernelspec": {
   "display_name": "Python 3",
   "language": "python",
   "name": "python3"
  },
  "language_info": {
   "codemirror_mode": {
    "name": "ipython",
    "version": 3
   },
   "file_extension": ".py",
   "mimetype": "text/x-python",
   "name": "python",
   "nbconvert_exporter": "python",
   "pygments_lexer": "ipython3",
   "version": "3.5.2"
  }
 },
 "nbformat": 4,
 "nbformat_minor": 2
}
